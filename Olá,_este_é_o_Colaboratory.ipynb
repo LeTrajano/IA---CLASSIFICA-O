{
  "cells": [
    {
      "cell_type": "markdown",
      "metadata": {
        "id": "view-in-github",
        "colab_type": "text"
      },
      "source": [
        "<a href=\"https://colab.research.google.com/github/LeTrajano/IA.CLASSIFICACAO/blob/main/Ol%C3%A1%2C_este_%C3%A9_o_Colaboratory.ipynb\" target=\"_parent\"><img src=\"https://colab.research.google.com/assets/colab-badge.svg\" alt=\"Open In Colab\"/></a>"
      ]
    },
    {
      "cell_type": "markdown",
      "source": [
        "#**ATIVIDADE 04 - IA**\n",
        "##Prática Individual de Classificação\n",
        "BANCO DE DADOS: Análise e previsão de ataque cardíaco\n",
        "\n",
        "DISCENTE: LETÍCIA TRAJANO ALVES\n",
        "\n",
        "*   Item da lista\n",
        "*   Item da lista\n",
        "\n",
        "\n",
        "\n",
        "[lINK PARA O BANCO DE DADOS](https://www.kaggle.com/datasets/rashikrahmanpritom/heart-attack-analysis-prediction-dataset)"
      ],
      "metadata": {
        "id": "_7jH5X1vp54N"
      }
    },
    {
      "cell_type": "code",
      "execution_count": 1,
      "metadata": {
        "id": "mOXuUYseeJIH"
      },
      "outputs": [],
      "source": [
        "# Importando Pandas: Para manipulação de dados\n",
        "import pandas as pd"
      ]
    },
    {
      "cell_type": "code",
      "source": [
        "# Guardando os dados do CSV carregado em um Dataframe Pandas\n",
        "dados = pd.read_csv('/content/heart.csv', sep=',')"
      ],
      "metadata": {
        "id": "Y6Gll9d3eqay"
      },
      "execution_count": 36,
      "outputs": []
    },
    {
      "cell_type": "code",
      "source": [
        "# Mostrar quantidade de Linhas x Colunas (estrutura bidimensional da base de dados)\n",
        "dados.shape"
      ],
      "metadata": {
        "colab": {
          "base_uri": "https://localhost:8080/"
        },
        "id": "YFwS5Wz6e1gi",
        "outputId": "13c7fb23-7be9-4496-f647-43342aa27d25"
      },
      "execution_count": 37,
      "outputs": [
        {
          "output_type": "execute_result",
          "data": {
            "text/plain": [
              "(303, 14)"
            ]
          },
          "metadata": {},
          "execution_count": 37
        }
      ]
    },
    {
      "cell_type": "markdown",
      "source": [
        "# Mostrar base de dados\n",
        "#dados.head()\n",
        "dados.sample(5)"
      ],
      "metadata": {
        "id": "Uvpiv8eXpPzv"
      }
    },
    {
      "cell_type": "code",
      "source": [
        "# Verificar tipos de variáveis\n",
        "dados.dtypes"
      ],
      "metadata": {
        "colab": {
          "base_uri": "https://localhost:8080/"
        },
        "id": "sL7QWfcjpqiL",
        "outputId": "a8dc565e-f9ef-4342-8fd1-215a8b6c99a9"
      },
      "execution_count": 38,
      "outputs": [
        {
          "output_type": "execute_result",
          "data": {
            "text/plain": [
              "age           int64\n",
              "sex           int64\n",
              "cp            int64\n",
              "trtbps        int64\n",
              "chol          int64\n",
              "fbs           int64\n",
              "restecg       int64\n",
              "thalachh      int64\n",
              "exng          int64\n",
              "oldpeak     float64\n",
              "slp           int64\n",
              "caa           int64\n",
              "thall         int64\n",
              "output        int64\n",
              "dtype: object"
            ]
          },
          "metadata": {},
          "execution_count": 38
        }
      ]
    },
    {
      "cell_type": "markdown",
      "source": [
        "# **Tratamento de dados:**"
      ],
      "metadata": {
        "id": "99vhuCuV6GiV"
      }
    },
    {
      "cell_type": "code",
      "source": [
        "# mudar nome de colunas\n",
        "dados = dados.rename(columns={\n",
        "    'age': 'idade',\n",
        "    'sex': 'sexo',\n",
        "    'cp': 'dorTorax',\n",
        "    'trtbps': 'PresAR',\n",
        "    'chol': 'colesterol',\n",
        "    'fbs': 'glicemiaJejum',\n",
        "    'restecg': 'eletroRepouso',\n",
        "    'thalachh': 'freqCardMax',\n",
        "    'exng': 'anginaEx',\n",
        "    'oldpeak': 'depST',\n",
        "    'slp': 'inclST',\n",
        "    'caa': 'numVasos',\n",
        "    'thall': 'defeito',\n",
        "    'output': 'resultado'\n",
        "})\n"
      ],
      "metadata": {
        "id": "MuLfC24xLPVw"
      },
      "execution_count": 39,
      "outputs": []
    },
    {
      "cell_type": "code",
      "source": [
        "# Verificando novamente os tipos dos dados.\n",
        "# Verificando a existencia de dados nulos\n",
        "dados.info()"
      ],
      "metadata": {
        "colab": {
          "base_uri": "https://localhost:8080/"
        },
        "id": "gHkhpB3gfLtY",
        "outputId": "63fbb25b-c559-4374-d8d1-d94342d9b278"
      },
      "execution_count": 40,
      "outputs": [
        {
          "output_type": "stream",
          "name": "stdout",
          "text": [
            "<class 'pandas.core.frame.DataFrame'>\n",
            "RangeIndex: 303 entries, 0 to 302\n",
            "Data columns (total 14 columns):\n",
            " #   Column         Non-Null Count  Dtype  \n",
            "---  ------         --------------  -----  \n",
            " 0   idade          303 non-null    int64  \n",
            " 1   sexo           303 non-null    int64  \n",
            " 2   dorTorax       303 non-null    int64  \n",
            " 3   PresAR         303 non-null    int64  \n",
            " 4   colesterol     303 non-null    int64  \n",
            " 5   glicemiaJejum  303 non-null    int64  \n",
            " 6   eletroRepouso  303 non-null    int64  \n",
            " 7   freqCardMax    303 non-null    int64  \n",
            " 8   anginaEx       303 non-null    int64  \n",
            " 9   depST          303 non-null    float64\n",
            " 10  inclST         303 non-null    int64  \n",
            " 11  numVasos       303 non-null    int64  \n",
            " 12  defeito        303 non-null    int64  \n",
            " 13  resultado      303 non-null    int64  \n",
            "dtypes: float64(1), int64(13)\n",
            "memory usage: 33.3 KB\n"
          ]
        }
      ]
    },
    {
      "cell_type": "code",
      "source": [
        "# Mostrando o numero de dados faltantes em cada coluna (Tabela não possui dados faltantes)\n",
        "dados.isnull().sum()"
      ],
      "metadata": {
        "colab": {
          "base_uri": "https://localhost:8080/"
        },
        "id": "wd8PDVRGfVHj",
        "outputId": "d7881be7-cebe-40e6-db93-64a8f27a84ca"
      },
      "execution_count": 41,
      "outputs": [
        {
          "output_type": "execute_result",
          "data": {
            "text/plain": [
              "idade            0\n",
              "sexo             0\n",
              "dorTorax         0\n",
              "PresAR           0\n",
              "colesterol       0\n",
              "glicemiaJejum    0\n",
              "eletroRepouso    0\n",
              "freqCardMax      0\n",
              "anginaEx         0\n",
              "depST            0\n",
              "inclST           0\n",
              "numVasos         0\n",
              "defeito          0\n",
              "resultado        0\n",
              "dtype: int64"
            ]
          },
          "metadata": {},
          "execution_count": 41
        }
      ]
    },
    {
      "cell_type": "code",
      "source": [
        "#Excluir todas as linhas com valores ausentes, onde axis = 0 (linhas) axis = 1 (colunas)\n",
        "dados.dropna(axis=0, inplace=True)"
      ],
      "metadata": {
        "id": "Yb8aDtZt7slS"
      },
      "execution_count": 42,
      "outputs": []
    },
    {
      "cell_type": "code",
      "source": [
        "# Mostrar algumas medidas estatisticas/descritivas da base de dados (Apenas dados numéricos)\n",
        "\n",
        "dados[[\"dorTorax\", \"idade\"]].describe()"
      ],
      "metadata": {
        "colab": {
          "base_uri": "https://localhost:8080/",
          "height": 300
        },
        "id": "RGxD98aFffrk",
        "outputId": "bf333d3b-41c3-455e-f635-9fc7674ba208"
      },
      "execution_count": 44,
      "outputs": [
        {
          "output_type": "execute_result",
          "data": {
            "text/plain": [
              "         dorTorax       idade\n",
              "count  303.000000  303.000000\n",
              "mean     0.966997   54.366337\n",
              "std      1.032052    9.082101\n",
              "min      0.000000   29.000000\n",
              "25%      0.000000   47.500000\n",
              "50%      1.000000   55.000000\n",
              "75%      2.000000   61.000000\n",
              "max      3.000000   77.000000"
            ],
            "text/html": [
              "\n",
              "  <div id=\"df-78897dcf-f33a-4a42-b4b3-6bfdb14e5289\" class=\"colab-df-container\">\n",
              "    <div>\n",
              "<style scoped>\n",
              "    .dataframe tbody tr th:only-of-type {\n",
              "        vertical-align: middle;\n",
              "    }\n",
              "\n",
              "    .dataframe tbody tr th {\n",
              "        vertical-align: top;\n",
              "    }\n",
              "\n",
              "    .dataframe thead th {\n",
              "        text-align: right;\n",
              "    }\n",
              "</style>\n",
              "<table border=\"1\" class=\"dataframe\">\n",
              "  <thead>\n",
              "    <tr style=\"text-align: right;\">\n",
              "      <th></th>\n",
              "      <th>dorTorax</th>\n",
              "      <th>idade</th>\n",
              "    </tr>\n",
              "  </thead>\n",
              "  <tbody>\n",
              "    <tr>\n",
              "      <th>count</th>\n",
              "      <td>303.000000</td>\n",
              "      <td>303.000000</td>\n",
              "    </tr>\n",
              "    <tr>\n",
              "      <th>mean</th>\n",
              "      <td>0.966997</td>\n",
              "      <td>54.366337</td>\n",
              "    </tr>\n",
              "    <tr>\n",
              "      <th>std</th>\n",
              "      <td>1.032052</td>\n",
              "      <td>9.082101</td>\n",
              "    </tr>\n",
              "    <tr>\n",
              "      <th>min</th>\n",
              "      <td>0.000000</td>\n",
              "      <td>29.000000</td>\n",
              "    </tr>\n",
              "    <tr>\n",
              "      <th>25%</th>\n",
              "      <td>0.000000</td>\n",
              "      <td>47.500000</td>\n",
              "    </tr>\n",
              "    <tr>\n",
              "      <th>50%</th>\n",
              "      <td>1.000000</td>\n",
              "      <td>55.000000</td>\n",
              "    </tr>\n",
              "    <tr>\n",
              "      <th>75%</th>\n",
              "      <td>2.000000</td>\n",
              "      <td>61.000000</td>\n",
              "    </tr>\n",
              "    <tr>\n",
              "      <th>max</th>\n",
              "      <td>3.000000</td>\n",
              "      <td>77.000000</td>\n",
              "    </tr>\n",
              "  </tbody>\n",
              "</table>\n",
              "</div>\n",
              "    <div class=\"colab-df-buttons\">\n",
              "\n",
              "  <div class=\"colab-df-container\">\n",
              "    <button class=\"colab-df-convert\" onclick=\"convertToInteractive('df-78897dcf-f33a-4a42-b4b3-6bfdb14e5289')\"\n",
              "            title=\"Convert this dataframe to an interactive table.\"\n",
              "            style=\"display:none;\">\n",
              "\n",
              "  <svg xmlns=\"http://www.w3.org/2000/svg\" height=\"24px\" viewBox=\"0 -960 960 960\">\n",
              "    <path d=\"M120-120v-720h720v720H120Zm60-500h600v-160H180v160Zm220 220h160v-160H400v160Zm0 220h160v-160H400v160ZM180-400h160v-160H180v160Zm440 0h160v-160H620v160ZM180-180h160v-160H180v160Zm440 0h160v-160H620v160Z\"/>\n",
              "  </svg>\n",
              "    </button>\n",
              "\n",
              "  <style>\n",
              "    .colab-df-container {\n",
              "      display:flex;\n",
              "      gap: 12px;\n",
              "    }\n",
              "\n",
              "    .colab-df-convert {\n",
              "      background-color: #E8F0FE;\n",
              "      border: none;\n",
              "      border-radius: 50%;\n",
              "      cursor: pointer;\n",
              "      display: none;\n",
              "      fill: #1967D2;\n",
              "      height: 32px;\n",
              "      padding: 0 0 0 0;\n",
              "      width: 32px;\n",
              "    }\n",
              "\n",
              "    .colab-df-convert:hover {\n",
              "      background-color: #E2EBFA;\n",
              "      box-shadow: 0px 1px 2px rgba(60, 64, 67, 0.3), 0px 1px 3px 1px rgba(60, 64, 67, 0.15);\n",
              "      fill: #174EA6;\n",
              "    }\n",
              "\n",
              "    .colab-df-buttons div {\n",
              "      margin-bottom: 4px;\n",
              "    }\n",
              "\n",
              "    [theme=dark] .colab-df-convert {\n",
              "      background-color: #3B4455;\n",
              "      fill: #D2E3FC;\n",
              "    }\n",
              "\n",
              "    [theme=dark] .colab-df-convert:hover {\n",
              "      background-color: #434B5C;\n",
              "      box-shadow: 0px 1px 3px 1px rgba(0, 0, 0, 0.15);\n",
              "      filter: drop-shadow(0px 1px 2px rgba(0, 0, 0, 0.3));\n",
              "      fill: #FFFFFF;\n",
              "    }\n",
              "  </style>\n",
              "\n",
              "    <script>\n",
              "      const buttonEl =\n",
              "        document.querySelector('#df-78897dcf-f33a-4a42-b4b3-6bfdb14e5289 button.colab-df-convert');\n",
              "      buttonEl.style.display =\n",
              "        google.colab.kernel.accessAllowed ? 'block' : 'none';\n",
              "\n",
              "      async function convertToInteractive(key) {\n",
              "        const element = document.querySelector('#df-78897dcf-f33a-4a42-b4b3-6bfdb14e5289');\n",
              "        const dataTable =\n",
              "          await google.colab.kernel.invokeFunction('convertToInteractive',\n",
              "                                                    [key], {});\n",
              "        if (!dataTable) return;\n",
              "\n",
              "        const docLinkHtml = 'Like what you see? Visit the ' +\n",
              "          '<a target=\"_blank\" href=https://colab.research.google.com/notebooks/data_table.ipynb>data table notebook</a>'\n",
              "          + ' to learn more about interactive tables.';\n",
              "        element.innerHTML = '';\n",
              "        dataTable['output_type'] = 'display_data';\n",
              "        await google.colab.output.renderOutput(dataTable, element);\n",
              "        const docLink = document.createElement('div');\n",
              "        docLink.innerHTML = docLinkHtml;\n",
              "        element.appendChild(docLink);\n",
              "      }\n",
              "    </script>\n",
              "  </div>\n",
              "\n",
              "\n",
              "<div id=\"df-05906d24-f11b-421c-b675-38197252196d\">\n",
              "  <button class=\"colab-df-quickchart\" onclick=\"quickchart('df-05906d24-f11b-421c-b675-38197252196d')\"\n",
              "            title=\"Suggest charts\"\n",
              "            style=\"display:none;\">\n",
              "\n",
              "<svg xmlns=\"http://www.w3.org/2000/svg\" height=\"24px\"viewBox=\"0 0 24 24\"\n",
              "     width=\"24px\">\n",
              "    <g>\n",
              "        <path d=\"M19 3H5c-1.1 0-2 .9-2 2v14c0 1.1.9 2 2 2h14c1.1 0 2-.9 2-2V5c0-1.1-.9-2-2-2zM9 17H7v-7h2v7zm4 0h-2V7h2v10zm4 0h-2v-4h2v4z\"/>\n",
              "    </g>\n",
              "</svg>\n",
              "  </button>\n",
              "\n",
              "<style>\n",
              "  .colab-df-quickchart {\n",
              "      --bg-color: #E8F0FE;\n",
              "      --fill-color: #1967D2;\n",
              "      --hover-bg-color: #E2EBFA;\n",
              "      --hover-fill-color: #174EA6;\n",
              "      --disabled-fill-color: #AAA;\n",
              "      --disabled-bg-color: #DDD;\n",
              "  }\n",
              "\n",
              "  [theme=dark] .colab-df-quickchart {\n",
              "      --bg-color: #3B4455;\n",
              "      --fill-color: #D2E3FC;\n",
              "      --hover-bg-color: #434B5C;\n",
              "      --hover-fill-color: #FFFFFF;\n",
              "      --disabled-bg-color: #3B4455;\n",
              "      --disabled-fill-color: #666;\n",
              "  }\n",
              "\n",
              "  .colab-df-quickchart {\n",
              "    background-color: var(--bg-color);\n",
              "    border: none;\n",
              "    border-radius: 50%;\n",
              "    cursor: pointer;\n",
              "    display: none;\n",
              "    fill: var(--fill-color);\n",
              "    height: 32px;\n",
              "    padding: 0;\n",
              "    width: 32px;\n",
              "  }\n",
              "\n",
              "  .colab-df-quickchart:hover {\n",
              "    background-color: var(--hover-bg-color);\n",
              "    box-shadow: 0 1px 2px rgba(60, 64, 67, 0.3), 0 1px 3px 1px rgba(60, 64, 67, 0.15);\n",
              "    fill: var(--button-hover-fill-color);\n",
              "  }\n",
              "\n",
              "  .colab-df-quickchart-complete:disabled,\n",
              "  .colab-df-quickchart-complete:disabled:hover {\n",
              "    background-color: var(--disabled-bg-color);\n",
              "    fill: var(--disabled-fill-color);\n",
              "    box-shadow: none;\n",
              "  }\n",
              "\n",
              "  .colab-df-spinner {\n",
              "    border: 2px solid var(--fill-color);\n",
              "    border-color: transparent;\n",
              "    border-bottom-color: var(--fill-color);\n",
              "    animation:\n",
              "      spin 1s steps(1) infinite;\n",
              "  }\n",
              "\n",
              "  @keyframes spin {\n",
              "    0% {\n",
              "      border-color: transparent;\n",
              "      border-bottom-color: var(--fill-color);\n",
              "      border-left-color: var(--fill-color);\n",
              "    }\n",
              "    20% {\n",
              "      border-color: transparent;\n",
              "      border-left-color: var(--fill-color);\n",
              "      border-top-color: var(--fill-color);\n",
              "    }\n",
              "    30% {\n",
              "      border-color: transparent;\n",
              "      border-left-color: var(--fill-color);\n",
              "      border-top-color: var(--fill-color);\n",
              "      border-right-color: var(--fill-color);\n",
              "    }\n",
              "    40% {\n",
              "      border-color: transparent;\n",
              "      border-right-color: var(--fill-color);\n",
              "      border-top-color: var(--fill-color);\n",
              "    }\n",
              "    60% {\n",
              "      border-color: transparent;\n",
              "      border-right-color: var(--fill-color);\n",
              "    }\n",
              "    80% {\n",
              "      border-color: transparent;\n",
              "      border-right-color: var(--fill-color);\n",
              "      border-bottom-color: var(--fill-color);\n",
              "    }\n",
              "    90% {\n",
              "      border-color: transparent;\n",
              "      border-bottom-color: var(--fill-color);\n",
              "    }\n",
              "  }\n",
              "</style>\n",
              "\n",
              "  <script>\n",
              "    async function quickchart(key) {\n",
              "      const quickchartButtonEl =\n",
              "        document.querySelector('#' + key + ' button');\n",
              "      quickchartButtonEl.disabled = true;  // To prevent multiple clicks.\n",
              "      quickchartButtonEl.classList.add('colab-df-spinner');\n",
              "      try {\n",
              "        const charts = await google.colab.kernel.invokeFunction(\n",
              "            'suggestCharts', [key], {});\n",
              "      } catch (error) {\n",
              "        console.error('Error during call to suggestCharts:', error);\n",
              "      }\n",
              "      quickchartButtonEl.classList.remove('colab-df-spinner');\n",
              "      quickchartButtonEl.classList.add('colab-df-quickchart-complete');\n",
              "    }\n",
              "    (() => {\n",
              "      let quickchartButtonEl =\n",
              "        document.querySelector('#df-05906d24-f11b-421c-b675-38197252196d button');\n",
              "      quickchartButtonEl.style.display =\n",
              "        google.colab.kernel.accessAllowed ? 'block' : 'none';\n",
              "    })();\n",
              "  </script>\n",
              "</div>\n",
              "\n",
              "    </div>\n",
              "  </div>\n"
            ],
            "application/vnd.google.colaboratory.intrinsic+json": {
              "type": "dataframe",
              "summary": "{\n  \"name\": \"dados[[\\\"dorTorax\\\", \\\"idade\\\"]]\",\n  \"rows\": 8,\n  \"fields\": [\n    {\n      \"column\": \"dorTorax\",\n      \"properties\": {\n        \"dtype\": \"number\",\n        \"std\": 106.72725528212327,\n        \"min\": 0.0,\n        \"max\": 303.0,\n        \"num_unique_values\": 7,\n        \"samples\": [\n          303.0,\n          0.966996699669967,\n          2.0\n        ],\n        \"semantic_type\": \"\",\n        \"description\": \"\"\n      }\n    },\n    {\n      \"column\": \"idade\",\n      \"properties\": {\n        \"dtype\": \"number\",\n        \"std\": 92.63263171018461,\n        \"min\": 9.082100989837857,\n        \"max\": 303.0,\n        \"num_unique_values\": 8,\n        \"samples\": [\n          54.366336633663366,\n          55.0,\n          303.0\n        ],\n        \"semantic_type\": \"\",\n        \"description\": \"\"\n      }\n    }\n  ]\n}"
            }
          },
          "metadata": {},
          "execution_count": 44
        }
      ]
    },
    {
      "cell_type": "code",
      "source": [
        "# Importar matplotlib.\n",
        "import matplotlib.pyplot as plt\n",
        "# Importar seaborn.\n",
        "import seaborn as sns"
      ],
      "metadata": {
        "id": "N8cMl1nHgHAA"
      },
      "execution_count": 45,
      "outputs": []
    },
    {
      "cell_type": "code",
      "source": [
        "# Verifcando categorias ou classes\n",
        "classes_diabetes = dados['resultado'].value_counts()\n",
        "\n",
        "print(classes_diabetes)\n"
      ],
      "metadata": {
        "colab": {
          "base_uri": "https://localhost:8080/"
        },
        "id": "6jAjlQidgLCI",
        "outputId": "036c10ee-e164-450d-af33-fc7950157632"
      },
      "execution_count": 46,
      "outputs": [
        {
          "output_type": "stream",
          "name": "stdout",
          "text": [
            "resultado\n",
            "1    165\n",
            "0    138\n",
            "Name: count, dtype: int64\n"
          ]
        }
      ]
    },
    {
      "cell_type": "code",
      "source": [
        "# Gráfico de barras com seaborn\n",
        "sns.countplot(x='resultado', data=dados)\n",
        "plt.show()"
      ],
      "metadata": {
        "colab": {
          "base_uri": "https://localhost:8080/",
          "height": 449
        },
        "id": "MrVs9uyiiOx7",
        "outputId": "5b388eca-0fd2-48b0-bc74-a3f07aac0c2a"
      },
      "execution_count": 47,
      "outputs": [
        {
          "output_type": "display_data",
          "data": {
            "text/plain": [
              "<Figure size 640x480 with 1 Axes>"
            ],
            "image/png": "[encoded data removed]"
          },
          "metadata": {}
        }
      ]
    },
    {
      "cell_type": "code",
      "source": [
        "# Construindo o gráfico de fatias com matplotlib\n",
        "\n",
        "nome_classes = ['sem a doença cardíaca', 'apresenta a doença cardíaca']\n",
        "quantidade_classes = [138,165]\n",
        "fig = plt.figure(figsize =(5, 5))\n",
        "plt.pie(quantidade_classes, labels = nome_classes, autopct='%1.2f%%')\n",
        "plt.show()"
      ],
      "metadata": {
        "colab": {
          "base_uri": "https://localhost:8080/",
          "height": 422
        },
        "id": "mWSMRDUZkY9F",
        "outputId": "0aef6b1e-9b72-42a1-c662-4fdcadbf0eac"
      },
      "execution_count": 48,
      "outputs": [
        {
          "output_type": "display_data",
          "data": {
            "text/plain": [
              "<Figure size 500x500 with 1 Axes>"
            ],
            "image/png": "[encoded data removed]"
          },
          "metadata": {}
        }
      ]
    },
    {
      "cell_type": "markdown",
      "source": [
        "**Quais perguntas poderemos responder com esta base de dados?**\n",
        "\n",
        "\n",
        "*   Quantas pessoas apresentam doença cardíaca (provavel de ter ataque cardíaco) ?\n",
        "* Como os níveis de colesterol variam por idade e sexo?\n",
        "* Existe uma correlação entre a pressão arterial e o nível de colesterol?\n",
        "* Existe alguma associação entre dor no peito (tipo de dor torácica) e o risco de eventos cardíacos?\n",
        "* Os pacientes com diabetes (baseando-se na glicemia de jejum) têm maior prevalência de doenças cardíacas?\n",
        "*   Qual a relação entre a idade e ter doença cardíaca?\n",
        "*   Dado um conjunto de características para um indivíduo como pressão arterial, nível glicêmico em jejum, idade... a pessoa tem risco de ter um ataque cadíaco ou não?\n",
        "\n",
        "\n"
      ],
      "metadata": {
        "id": "s9SL-Y9Nx4lJ"
      }
    },
    {
      "cell_type": "code",
      "source": [
        ""
      ],
      "metadata": {
        "id": "eE5Sil8sAM7M"
      },
      "execution_count": null,
      "outputs": []
    },
    {
      "cell_type": "markdown",
      "source": [
        "**Há variável resposta nessa base de dados?**\n",
        "\n",
        "* Há variável resposta, variável \"resposta\", correspondendo ao pacente ter ou não a possibilidade de apresentar ataque cardíaco."
      ],
      "metadata": {
        "id": "b4gDCx8u5Uwh"
      }
    },
    {
      "cell_type": "markdown",
      "source": [
        "**Qual tipo de Aprendizagem de Máquina? Qual tarefa?**\n",
        "\n",
        "* Aprendizagem supervisionada, classificação."
      ],
      "metadata": {
        "id": "ffgmf7fvztn7"
      }
    },
    {
      "cell_type": "code",
      "source": [],
      "metadata": {
        "id": "JK6Uw6rCEKUf"
      },
      "execution_count": null,
      "outputs": []
    },
    {
      "cell_type": "code",
      "source": [
        "# Importanto técnicas de avaliação de modelos de classificação\n",
        "from sklearn.model_selection import train_test_split  #método de  particionamento dos dados em treino e teste\n",
        "from sklearn.metrics import accuracy_score    # método para calcular a taxa de acerto\n",
        "import numpy as np\n",
        "\n",
        "# Importando as técnicas de aprendizagem (Classificadores)\n",
        "from sklearn.tree import DecisionTreeClassifier\n",
        "from sklearn.svm import SVC"
      ],
      "metadata": {
        "id": "q5YQgJPm9a7H"
      },
      "execution_count": 49,
      "outputs": []
    },
    {
      "cell_type": "code",
      "source": [],
      "metadata": {
        "id": "XaVS6imjqW6k"
      },
      "execution_count": null,
      "outputs": []
    },
    {
      "cell_type": "markdown",
      "source": [
        "# **Aprendizado de Máquina Supervisionado: Classificação**"
      ],
      "metadata": {
        "id": "ZLSlJWg35o_M"
      }
    },
    {
      "cell_type": "code",
      "source": [
        "\n",
        "#base_nova = dados[['nome1','nome2','nome3','variavel saida']]\n",
        "\n",
        "#Separação aleatória em conjuntos de treino e teste  (Treino = Para etapa de aprendizagem;  Teste = Para avaliar  o desempenho do modelo em novos dados)array = aprovacao_alunos.values\n",
        "X = dados[['idade', 'sexo', 'PresAR', 'numVasos', 'defeito', 'glicemiaJejum', 'freqCardMax']]\n",
        "Y = dados['resultado']\n",
        "\n"
      ],
      "metadata": {
        "id": "VJDJAQj25nxr"
      },
      "execution_count": 52,
      "outputs": []
    },
    {
      "cell_type": "code",
      "source": [
        "np.random.seed(7)\n",
        "X_treino, X_teste, Y_treino, Y_teste = train_test_split(X, Y, test_size=0.25) #consideramos treino 75% e teste 25%"
      ],
      "metadata": {
        "id": "bv3tIROrGhdd"
      },
      "execution_count": 53,
      "outputs": []
    },
    {
      "cell_type": "code",
      "source": [
        "# Treinando modelos\n",
        "# Preparação do modelo 1 =  Árvore de Decisão\n",
        "model1 = DecisionTreeClassifier()\n",
        "model1.fit(X_treino, Y_treino)  #fit() é o método  para treinamento dos modelos\n",
        "\n",
        "# Preparação do modelo 2 = SVM\n",
        "model2 = SVC(kernel= \"linear\")\n",
        "model2.fit(X_treino, Y_treino) #fit() é o método  para treinamento dos modelos\n"
      ],
      "metadata": {
        "colab": {
          "base_uri": "https://localhost:8080/",
          "height": 74
        },
        "id": "-SDRI9s6D7BJ",
        "outputId": "a8e5fe8d-3f85-4a97-8189-9985cd995b28"
      },
      "execution_count": 54,
      "outputs": [
        {
          "output_type": "execute_result",
          "data": {
            "text/plain": [
              "SVC(kernel='linear')"
            ],
            "text/html": [
              "<style>#sk-container-id-1 {color: black;background-color: white;}#sk-container-id-1 pre{padding: 0;}#sk-container-id-1 div.sk-toggleable {background-color: white;}#sk-container-id-1 label.sk-toggleable__label {cursor: pointer;display: block;width: 100%;margin-bottom: 0;padding: 0.3em;box-sizing: border-box;text-align: center;}#sk-container-id-1 label.sk-toggleable__label-arrow:before {content: \"▸\";float: left;margin-right: 0.25em;color: #696969;}#sk-container-id-1 label.sk-toggleable__label-arrow:hover:before {color: black;}#sk-container-id-1 div.sk-estimator:hover label.sk-toggleable__label-arrow:before {color: black;}#sk-container-id-1 div.sk-toggleable__content {max-height: 0;max-width: 0;overflow: hidden;text-align: left;background-color: #f0f8ff;}#sk-container-id-1 div.sk-toggleable__content pre {margin: 0.2em;color: black;border-radius: 0.25em;background-color: #f0f8ff;}#sk-container-id-1 input.sk-toggleable__control:checked~div.sk-toggleable__content {max-height: 200px;max-width: 100%;overflow: auto;}#sk-container-id-1 input.sk-toggleable__control:checked~label.sk-toggleable__label-arrow:before {content: \"▾\";}#sk-container-id-1 div.sk-estimator input.sk-toggleable__control:checked~label.sk-toggleable__label {background-color: #d4ebff;}#sk-container-id-1 div.sk-label input.sk-toggleable__control:checked~label.sk-toggleable__label {background-color: #d4ebff;}#sk-container-id-1 input.sk-hidden--visually {border: 0;clip: rect(1px 1px 1px 1px);clip: rect(1px, 1px, 1px, 1px);height: 1px;margin: -1px;overflow: hidden;padding: 0;position: absolute;width: 1px;}#sk-container-id-1 div.sk-estimator {font-family: monospace;background-color: #f0f8ff;border: 1px dotted black;border-radius: 0.25em;box-sizing: border-box;margin-bottom: 0.5em;}#sk-container-id-1 div.sk-estimator:hover {background-color: #d4ebff;}#sk-container-id-1 div.sk-parallel-item::after {content: \"\";width: 100%;border-bottom: 1px solid gray;flex-grow: 1;}#sk-container-id-1 div.sk-label:hover label.sk-toggleable__label {background-color: #d4ebff;}#sk-container-id-1 div.sk-serial::before {content: \"\";position: absolute;border-left: 1px solid gray;box-sizing: border-box;top: 0;bottom: 0;left: 50%;z-index: 0;}#sk-container-id-1 div.sk-serial {display: flex;flex-direction: column;align-items: center;background-color: white;padding-right: 0.2em;padding-left: 0.2em;position: relative;}#sk-container-id-1 div.sk-item {position: relative;z-index: 1;}#sk-container-id-1 div.sk-parallel {display: flex;align-items: stretch;justify-content: center;background-color: white;position: relative;}#sk-container-id-1 div.sk-item::before, #sk-container-id-1 div.sk-parallel-item::before {content: \"\";position: absolute;border-left: 1px solid gray;box-sizing: border-box;top: 0;bottom: 0;left: 50%;z-index: -1;}#sk-container-id-1 div.sk-parallel-item {display: flex;flex-direction: column;z-index: 1;position: relative;background-color: white;}#sk-container-id-1 div.sk-parallel-item:first-child::after {align-self: flex-end;width: 50%;}#sk-container-id-1 div.sk-parallel-item:last-child::after {align-self: flex-start;width: 50%;}#sk-container-id-1 div.sk-parallel-item:only-child::after {width: 0;}#sk-container-id-1 div.sk-dashed-wrapped {border: 1px dashed gray;margin: 0 0.4em 0.5em 0.4em;box-sizing: border-box;padding-bottom: 0.4em;background-color: white;}#sk-container-id-1 div.sk-label label {font-family: monospace;font-weight: bold;display: inline-block;line-height: 1.2em;}#sk-container-id-1 div.sk-label-container {text-align: center;}#sk-container-id-1 div.sk-container {/* jupyter's `normalize.less` sets `[hidden] { display: none; }` but bootstrap.min.css set `[hidden] { display: none !important; }` so we also need the `!important` here to be able to override the default hidden behavior on the sphinx rendered scikit-learn.org. See: https://github.com/scikit-learn/scikit-learn/issues/21755 */display: inline-block !important;position: relative;}#sk-container-id-1 div.sk-text-repr-fallback {display: none;}</style><div id=\"sk-container-id-1\" class=\"sk-top-container\"><div class=\"sk-text-repr-fallback\"><pre>SVC(kernel=&#x27;linear&#x27;)</pre><b>In a Jupyter environment, please rerun this cell to show the HTML representation or trust the notebook. <br />On GitHub, the HTML representation is unable to render, please try loading this page with nbviewer.org.</b></div><div class=\"sk-container\" hidden><div class=\"sk-item\"><div class=\"sk-estimator sk-toggleable\"><input class=\"sk-toggleable__control sk-hidden--visually\" id=\"sk-estimator-id-1\" type=\"checkbox\" checked><label for=\"sk-estimator-id-1\" class=\"sk-toggleable__label sk-toggleable__label-arrow\">SVC</label><div class=\"sk-toggleable__content\"><pre>SVC(kernel=&#x27;linear&#x27;)</pre></div></div></div></div></div>"
            ]
          },
          "metadata": {},
          "execution_count": 54
        }
      ]
    },
    {
      "cell_type": "code",
      "source": [
        "# Estimativas na base de teste (dados não vistos/futuros) = simulando o desempenho do modelo no mundo real\n",
        "predictions1 = model1.predict(X_teste)  # predict retorna a resposta dada pelo modelo\n",
        "print(\"Taxa de Acerto do modelo com Árvore de Decisão = \", round((accuracy_score(Y_teste, predictions1)*100),2),\"%\")\n",
        "\n",
        "predictions2 = model2.predict(X_teste)\n",
        "print(\"Taxa de Acerto do modelo com SVM = \", round((accuracy_score(Y_teste, predictions2)*100),2),\"%\")"
      ],
      "metadata": {
        "colab": {
          "base_uri": "https://localhost:8080/"
        },
        "id": "YQWzuytjEBfk",
        "outputId": "99ae33a6-f6fb-49be-b483-2cd3b6a7af22"
      },
      "execution_count": 55,
      "outputs": [
        {
          "output_type": "stream",
          "name": "stdout",
          "text": [
            "Taxa de Acerto do modelo com Árvore de Decisão =  73.68 %\n",
            "Taxa de Acerto do modelo com SVM =  77.63 %\n"
          ]
        }
      ]
    },
    {
      "cell_type": "markdown",
      "source": [
        "## Implementação do melhor modelo no sistema = Objetivo = **Fazer Diagnóstico**"
      ],
      "metadata": {
        "id": "we9iQN2lEPd-"
      }
    },
    {
      "cell_type": "markdown",
      "source": [
        "Imagina que um médico recebeu em seu consultório 2 novos pacientes, e com base nas sua ficha médica ele que realizar uma predição do risco do paciente desenvolver ataque cardíaco."
      ],
      "metadata": {
        "id": "ImRQ0uU7IIZq"
      }
    },
    {
      "cell_type": "code",
      "source": [
        "pacientes = {\n",
        "\n",
        "    'idade': [37, 63],\n",
        "    'sexo': [0, 1],\n",
        "    'PresAR': [130, 145],\n",
        "    'numVasos': [2, 3],\n",
        "    'defeito': [2,1],\n",
        "    'glicemiaJejum': [1, 0],\n",
        "    'freqCardMax': [185, 151]\n",
        "\n",
        "}\n",
        "\n",
        "df_pacientes = pd.DataFrame(pacientes)\n",
        "\n",
        "print(df_pacientes)\n",
        "\n"
      ],
      "metadata": {
        "colab": {
          "base_uri": "https://localhost:8080/"
        },
        "id": "ycuBsdw0EOVK",
        "outputId": "f24da4ed-4b74-4d26-efd1-7d26f248e956"
      },
      "execution_count": 63,
      "outputs": [
        {
          "output_type": "stream",
          "name": "stdout",
          "text": [
            "   idade  sexo  PresAR  numVasos  defeito  glicemiaJejum  freqCardMax\n",
            "0     37     0     130         2        2              1          185\n",
            "1     63     1     145         3        1              0          151\n"
          ]
        }
      ]
    },
    {
      "cell_type": "code",
      "source": [
        "# Fazer previsões com o modelo 2 (SVM)\n",
        "previsoes = model2.predict(df_pacientes)\n",
        "\n",
        "# Iterar sobre as previsões e imprimir uma mensagem para cada paciente\n",
        "for i, previsao in enumerate(previsoes):\n",
        "  if previsao == 1:\n",
        "    print(f'O paciente {i+1} possui alto risco de estar ou desenvolver ataque cardíaco.')\n",
        "  else:\n",
        "    print(f'O paciente {i+1} não possui alto risco de desenvolver ataque cardíaco.')\n"
      ],
      "metadata": {
        "colab": {
          "base_uri": "https://localhost:8080/"
        },
        "id": "U658eMGyGy2b",
        "outputId": "6f3befb1-88ed-4e6d-d8fd-4081d7f47c8a"
      },
      "execution_count": 64,
      "outputs": [
        {
          "output_type": "stream",
          "name": "stdout",
          "text": [
            "O paciente 1 possui alto risco de estar ou desenvolver ataque cardíaco.\n",
            "O paciente 2 não possui alto risco de desenvolver ataque cardíaco.\n"
          ]
        }
      ]
    },
    {
      "cell_type": "code",
      "source": [
        "#from sklearn.preprocessing import LabelEncoder\n",
        "#dados.iloc[:, 1] = LabelEncoder().fit_transform(dados.iloc[:, 1])\n",
        "#dados.head()"
      ],
      "metadata": {
        "id": "VapVFmdbLoJJ"
      },
      "execution_count": 65,
      "outputs": []
    }
  ],
  "metadata": {
    "colab": {
      "name": "Olá, este é o Colaboratory",
      "provenance": [],
      "include_colab_link": true
    },
    "kernelspec": {
      "display_name": "Python 3",
      "name": "python3"
    }
  },
  "nbformat": 4,
  "nbformat_minor": 0
}